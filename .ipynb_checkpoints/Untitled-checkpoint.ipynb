{
 "cells": [
  {
   "cell_type": "code",
   "execution_count": 14,
   "id": "ea787233",
   "metadata": {},
   "outputs": [
    {
     "name": "stdout",
     "output_type": "stream",
     "text": [
      "1\n",
      "{0, 1}\n"
     ]
    }
   ],
   "source": [
    "\n",
    "tableau =[[\"a\",\"g\",\"n\",\"b\",\"b\"],\n",
    "          [\"g\",\"d\",\"m\",\"g\",\"b\"],\n",
    "          [\"a\",\"g\",\"d\",\"m\",\"p\"],\n",
    "          [\"b\",\"g\",\"h\",\"f\",\"x\"],\n",
    "          [\"f\",\"x\",\"g\",\"h\",\"v\"]]\n",
    "mot = ''\n",
    "def recherche_horizontale_avant(a_chercher):\n",
    "    if(len(a_chercher)<len(tableau[0])):\n",
    "        trouver = {}\n",
    "        cpt = 0\n",
    "        for i in range(0,len(tableau)):\n",
    "            mot = ''\n",
    "            for j in range(0,len(tableau[0])):\n",
    "                mot += \"{}\".format(tableau[i][j])\n",
    "                if (a_chercher.lower() in mot.lower()):\n",
    "                    print(j)\n",
    "                    trouver[i+1] = {'message':{\"Le mots existe dans la matrice\"},'sens':{\"Horizontale à l'avant\"},\"coordone\":[i,j-len(a_chercher)+1,i,j]}\n",
    "                    cpt +=1\n",
    "                    return trouver\n",
    "                    break\n",
    "                else:\n",
    "                    if(cpt==1):\n",
    "                        print(\"Mot inexistant dans la matrice {}\".format(cpt))   \n",
    "    else:\n",
    "        print(\"Mot inexistant dans la matrice\")\n",
    "\n",
    "    \n",
    "\n",
    "\n",
    "def main():\n",
    "   resultat = recherche_horizontale_avant(\"ag\")\n",
    "   print(resultat[1]['coordone'])\n",
    "\n",
    "main()\n"
   ]
  },
  {
   "cell_type": "code",
   "execution_count": null,
   "id": "e33c4422",
   "metadata": {},
   "outputs": [],
   "source": []
  }
 ],
 "metadata": {
  "kernelspec": {
   "display_name": "Python 3 (ipykernel)",
   "language": "python",
   "name": "python3"
  },
  "language_info": {
   "codemirror_mode": {
    "name": "ipython",
    "version": 3
   },
   "file_extension": ".py",
   "mimetype": "text/x-python",
   "name": "python",
   "nbconvert_exporter": "python",
   "pygments_lexer": "ipython3",
   "version": "3.10.7"
  }
 },
 "nbformat": 4,
 "nbformat_minor": 5
}
